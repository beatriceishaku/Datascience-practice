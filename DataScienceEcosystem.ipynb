{
 "cells": [
  {
   "cell_type": "markdown",
   "id": "a95a82cd-c555-4661-bd4a-bac05b88a275",
   "metadata": {},
   "source": [
    " # Data Science Tools And Ecosystem"
   ]
  },
  {
   "cell_type": "markdown",
   "id": "25490a0e-f45f-4f67-a541-1f439a224911",
   "metadata": {},
   "source": [
    "In this notebook, Data Science Tools and Ecosystem will be summarizes "
   ]
  },
  {
   "cell_type": "markdown",
   "id": "1f48a01f-d425-4d05-a386-456854812a58",
   "metadata": {},
   "source": [
    "Some of the popular languages that Data Scientists use are: \n",
    "1. Python\n",
    "2. R\n",
    "3. SQL\n",
    "4. Java\n",
    "5. Julia\n",
    "6. Scala"
   ]
  },
  {
   "cell_type": "markdown",
   "id": "727a756c-f555-4a69-bd75-ec6c0b319ffc",
   "metadata": {},
   "source": [
    "**Objectives:**\n",
    ". Python,R and SQL are the two most popular languages for data science\n",
    ". some of the key libraries for data science are pandas, Numpy, plotly, matplotlib\n",
    ". fundamantal concepts in data analysis: data cleaning, data transformation, data visualization.\n",
    ". data science workflow: define the problem, data management, data integration & transformation, data Visualization, model building, model deployment, and model monitoring.\n",
    ".some real world data science application: finance, health care, business.\n"
   ]
  },
  {
   "cell_type": "markdown",
   "id": "6d88c4a2-755d-412d-a80d-d804c19f62a2",
   "metadata": {},
   "source": [
    "Some of the commonly used libraries used by Data Scientists include:\n",
    "\n",
    "1. Pandas\n",
    "2. Matplotlib\n",
    "3. Plotly\n",
    "4. Numpy\n",
    "5. Seaborn\n",
    "6. ggplot\n"
   ]
  },
  {
   "cell_type": "markdown",
   "id": "fc12b803-bd7a-4164-a898-01ae45072111",
   "metadata": {},
   "source": [
    "| Data Science Tools     |\n",
    "| ---------------------- |\n",
    "| Jupyter notebook       |\n",
    "| Knime                  |\n",
    "| Rstudio                |\n"
   ]
  },
  {
   "cell_type": "markdown",
   "id": "2ad2b172-45b3-47a0-8742-b2d7ea0a3f0f",
   "metadata": {},
   "source": [
    "### Below are a few examples of evaluating arithmetic expressions in Python\n",
    "\n",
    "'+' (a+b)\n",
    "'-' (b-a)\n",
    "'//' (b//c)\n",
    "'%' (c%b)\n"
   ]
  },
  {
   "cell_type": "code",
   "execution_count": 24,
   "id": "4ef618d8-f8ac-4fb6-9f30-def483282299",
   "metadata": {},
   "outputs": [
    {
     "data": {
      "text/plain": [
       "17"
      ]
     },
     "execution_count": 24,
     "metadata": {},
     "output_type": "execute_result"
    }
   ],
   "source": [
    "(3*4)+5\n",
    "#This is a simple arithmetic expression to multiply and add integers "
   ]
  },
  {
   "cell_type": "code",
   "execution_count": 26,
   "id": "57118c94-4c9f-43d5-b03b-9bd2141b10b1",
   "metadata": {},
   "outputs": [
    {
     "data": {
      "text/plain": [
       "3.3333333333333335"
      ]
     },
     "execution_count": 26,
     "metadata": {},
     "output_type": "execute_result"
    }
   ],
   "source": [
    "# This will convert 200 minutes to hours by dividing by 60\n",
    "hours = 200 / 60\n",
    "hours\n"
   ]
  },
  {
   "cell_type": "markdown",
   "id": "49e1e099-d57c-426c-be29-9fdced545fbd",
   "metadata": {},
   "source": [
    "## Author\n",
    "Beatrice Ishaku"
   ]
  },
  {
   "cell_type": "code",
   "execution_count": null,
   "id": "c5f1ffb1-423b-4262-badc-bee9fc4feca8",
   "metadata": {},
   "outputs": [],
   "source": []
  }
 ],
 "metadata": {
  "kernelspec": {
   "display_name": "Python 3 (ipykernel)",
   "language": "python",
   "name": "python3"
  },
  "language_info": {
   "codemirror_mode": {
    "name": "ipython",
    "version": 3
   },
   "file_extension": ".py",
   "mimetype": "text/x-python",
   "name": "python",
   "nbconvert_exporter": "python",
   "pygments_lexer": "ipython3",
   "version": "3.12.4"
  }
 },
 "nbformat": 4,
 "nbformat_minor": 5
}
